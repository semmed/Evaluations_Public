{
 "cells": [
  {
   "cell_type": "markdown",
   "metadata": {},
   "source": [
    "<a href=\"https://www.hydroffice.org/epom/\"><img src=\"images/000_000_epom_logo.png\" alt=\"ePOM\" title=\"Open ePOM home page\" align=\"center\" width=\"12%\" alt=\"Python logo\\\"></a>"
   ]
  },
  {
   "cell_type": "markdown",
   "metadata": {},
   "source": [
    "# Programming Basic with Python - Evaluation"
   ]
  },
  {
   "cell_type": "markdown",
   "metadata": {},
   "source": [
    "* This notebook is organized in several sections. \n",
    "\n",
    "* The code cells among different sections are independent, thus you do not need to complete all the cells in a section before moving to the next one.\n",
    "\n",
    "* You must work on your own. \n",
    "  * You are not allowed to interact with the other classmates. \n",
    "  * If you need clarifications about an exercise, ask the instructors.\n",
    "\n",
    "* You are allowed to access the [Programming Basics with Python](../python_basics/index.ipynb) notebooks that you completed during the past weeks."
   ]
  },
  {
   "cell_type": "markdown",
   "metadata": {},
   "source": [
    "---"
   ]
  },
  {
   "cell_type": "markdown",
   "metadata": {},
   "source": [
    "# Section 0"
   ]
  },
  {
   "cell_type": "markdown",
   "metadata": {},
   "source": [
    "Create and print a `name` variable containing your first name:"
   ]
  },
  {
   "cell_type": "code",
   "execution_count": 1,
   "metadata": {},
   "outputs": [
    {
     "name": "stdout",
     "output_type": "stream",
     "text": [
      "Semme\n"
     ]
    }
   ],
   "source": [
    "name = \"Semme\"\n",
    "print(name)"
   ]
  },
  {
   "cell_type": "markdown",
   "metadata": {},
   "source": [
    "Assign the length of `name` to a `name_length` variable, then print the resulting value:"
   ]
  },
  {
   "cell_type": "code",
   "execution_count": 3,
   "metadata": {},
   "outputs": [
    {
     "name": "stdout",
     "output_type": "stream",
     "text": [
      "5\n"
     ]
    }
   ],
   "source": [
    "name_length = len(name)\n",
    "print(name_length)"
   ]
  },
  {
   "cell_type": "markdown",
   "metadata": {},
   "source": [
    "Use `name` and `name_length` to create a full `sentence` variable of your choice, then print the resulting string:"
   ]
  },
  {
   "cell_type": "code",
   "execution_count": 5,
   "metadata": {},
   "outputs": [
    {
     "name": "stdout",
     "output_type": "stream",
     "text": [
      "My name is Semme, it consists of 5 characters\n"
     ]
    }
   ],
   "source": [
    "sentence = \"My name is \" + name + \", it consists of \" + \\\n",
    "    str(name_length) + \" characters\"\n",
    "print(sentence)"
   ]
  },
  {
   "cell_type": "markdown",
   "metadata": {},
   "source": [
    "Retrieve and print the type of the `sentence` variable:"
   ]
  },
  {
   "cell_type": "code",
   "execution_count": 8,
   "metadata": {},
   "outputs": [
    {
     "name": "stdout",
     "output_type": "stream",
     "text": [
      "<class 'str'>\n"
     ]
    }
   ],
   "source": [
    "print(type( sentence))"
   ]
  },
  {
   "cell_type": "markdown",
   "metadata": {},
   "source": [
    "***"
   ]
  },
  {
   "cell_type": "markdown",
   "metadata": {},
   "source": [
    "# Section 1"
   ]
  },
  {
   "cell_type": "markdown",
   "metadata": {},
   "source": [
    "Create two variables (`v0` and `v1`) with values `9` and `2.7`: "
   ]
  },
  {
   "cell_type": "code",
   "execution_count": 9,
   "metadata": {},
   "outputs": [],
   "source": [
    "v0=9\n",
    "v1=2.7\n"
   ]
  },
  {
   "cell_type": "markdown",
   "metadata": {},
   "source": [
    "Store the result of the division (`/`) of `v0` by `v1` in a variable named `v01_div`, then print the resulting value with an accuracy of two decimal numbers:"
   ]
  },
  {
   "cell_type": "code",
   "execution_count": 12,
   "metadata": {},
   "outputs": [
    {
     "name": "stdout",
     "output_type": "stream",
     "text": [
      "3.33\n"
     ]
    }
   ],
   "source": [
    "v01_div = v0/v1\n",
    "print(\"%.2f\" % v01_div)"
   ]
  },
  {
   "cell_type": "markdown",
   "metadata": {},
   "source": [
    "Retrieve and print the types of the `v0`, `v1`, and `v01_div` variables:"
   ]
  },
  {
   "cell_type": "code",
   "execution_count": 14,
   "metadata": {},
   "outputs": [
    {
     "name": "stdout",
     "output_type": "stream",
     "text": [
      "<class 'int'>\n",
      "<class 'float'>\n",
      "<class 'float'>\n"
     ]
    }
   ],
   "source": [
    "print(type(v0))\n",
    "print(type(v1))\n",
    "print(type(v01_div))"
   ]
  },
  {
   "cell_type": "markdown",
   "metadata": {},
   "source": [
    "Use the Markdown cell below to comment on the outputs of the cell above:"
   ]
  },
  {
   "cell_type": "markdown",
   "metadata": {},
   "source": [
    "*Answer here*: v0 is an integer, whereas v1 and v01_div or floating point variables"
   ]
  },
  {
   "cell_type": "markdown",
   "metadata": {},
   "source": [
    "***"
   ]
  },
  {
   "cell_type": "markdown",
   "metadata": {},
   "source": [
    "# Section 2"
   ]
  },
  {
   "cell_type": "markdown",
   "metadata": {},
   "source": [
    "Create and print a `dolphins` list with at least 5 species of [ocean dolphins](https://en.wikipedia.org/wiki/Dolphin#Ocean_dolphins):"
   ]
  },
  {
   "cell_type": "code",
   "execution_count": 16,
   "metadata": {},
   "outputs": [
    {
     "name": "stdout",
     "output_type": "stream",
     "text": [
      "['La Plata dolphin', 'Long-beaked common dolphin', 'Short-beaked common dolphin', 'Common bottlenose dolphin', 'Indo-Pacific bottlenose dolphin']\n"
     ]
    }
   ],
   "source": [
    "dolphins=['La Plata dolphin','Long-beaked common dolphin','Short-beaked common dolphin', 'Common bottlenose dolphin', 'Indo-Pacific bottlenose dolphin'  ]\n",
    "print(dolphins)"
   ]
  },
  {
   "cell_type": "markdown",
   "metadata": {},
   "source": [
    "Print the number of species in the `dolphins` list:"
   ]
  },
  {
   "cell_type": "code",
   "execution_count": 17,
   "metadata": {},
   "outputs": [
    {
     "name": "stdout",
     "output_type": "stream",
     "text": [
      "5\n"
     ]
    }
   ],
   "source": [
    "print(len(dolphins))"
   ]
  },
  {
   "cell_type": "markdown",
   "metadata": {},
   "source": [
    "Check whether the `\"Spinner dolphin\"` is present in the `dolphins` list, then print the result of this search: "
   ]
  },
  {
   "cell_type": "code",
   "execution_count": 19,
   "metadata": {},
   "outputs": [
    {
     "name": "stdout",
     "output_type": "stream",
     "text": [
      "Is the Spinner dolphin present in the list? False\n"
     ]
    }
   ],
   "source": [
    "present = False\n",
    "for dolphin in dolphins:\n",
    "    if dolphin == \"Spinner dolphin\":\n",
    "        present = True\n",
    "        \n",
    "print('Is the Spinner dolphin present in the list? %s' % present)"
   ]
  },
  {
   "cell_type": "markdown",
   "metadata": {},
   "source": [
    "***"
   ]
  },
  {
   "cell_type": "markdown",
   "metadata": {},
   "source": [
    "# Section 3"
   ]
  },
  {
   "cell_type": "markdown",
   "metadata": {},
   "source": [
    "Create and print a `river_dolphins` dictionary with name (as keys) and repartition (as values) for [river dolphins](https://en.wikipedia.org/wiki/Dolphin#River_dolphins):"
   ]
  },
  {
   "cell_type": "code",
   "execution_count": 23,
   "metadata": {},
   "outputs": [
    {
     "name": "stdout",
     "output_type": "stream",
     "text": [
      "{'Baiji': 'Yangtze River', 'South Asian river dolphin': 'Asia (south)', 'Amazon river dolphin': 'Amazon basin', 'Araguaian river dolphin': 'Amazon (east)', 'Bolivian river dolphin': 'Amazon (Bolivia)', 'Tucuxi': 'Amazon basin'}\n"
     ]
    }
   ],
   "source": [
    "river_dolphins = {}\n",
    "river_dolphins[\"Baiji\"] = \"Yangtze River\"\n",
    "river_dolphins[\"South Asian river dolphin\"] = \"Asia (south)\"\n",
    "river_dolphins[\"Amazon river dolphin\"] = \"Amazon basin\"\n",
    "river_dolphins[\"Araguaian river dolphin\"] = \"Amazon (east)\"\n",
    "river_dolphins[\"Bolivian river dolphin\"] = \"Amazon (Bolivia)\"\n",
    "river_dolphins[\"Tucuxi\"] = \"Amazon basin\"\n",
    "print(river_dolphins)"
   ]
  },
  {
   "cell_type": "markdown",
   "metadata": {},
   "source": [
    "Create a `selected_dolphin` variable with the name of a dolphin of your choice:"
   ]
  },
  {
   "cell_type": "code",
   "execution_count": 26,
   "metadata": {},
   "outputs": [],
   "source": [
    "selected_dolphin = \"Baiji\""
   ]
  },
  {
   "cell_type": "markdown",
   "metadata": {},
   "source": [
    "Create and print a sentence containing both the `selected_dolphin` and the corresponding repartition retrieved from the `river_dolphins` dictionary:"
   ]
  },
  {
   "cell_type": "code",
   "execution_count": 28,
   "metadata": {},
   "outputs": [
    {
     "name": "stdout",
     "output_type": "stream",
     "text": [
      "The Baiji lives in the Yangtze River\n"
     ]
    }
   ],
   "source": [
    "print(\"The %s lives in the %s\" % (selected_dolphin, river_dolphins[selected_dolphin]))"
   ]
  },
  {
   "cell_type": "markdown",
   "metadata": {},
   "source": [
    "***"
   ]
  },
  {
   "cell_type": "markdown",
   "metadata": {},
   "source": [
    "# Section 4"
   ]
  },
  {
   "cell_type": "markdown",
   "metadata": {},
   "source": [
    "Print a warning for sound speed values that are:\n",
    "* Equal or less than 1350 m/s, and\n",
    "* Greater than 1550 m/s:"
   ]
  },
  {
   "cell_type": "code",
   "execution_count": 32,
   "metadata": {},
   "outputs": [
    {
     "name": "stdout",
     "output_type": "stream",
     "text": [
      "Warning: sound speed value equal or less than 1350 m/s\n",
      "Warning: sound speed value greater than 1550 m/s\n"
     ]
    }
   ],
   "source": [
    "ss_list = [1500.6, 1501.3, 1350.0, 1498.2, 1504.4, 1553.7, 1550.0, 1532.3]\n",
    "for ss_value in ss_list:\n",
    "    if ss_value <= 1350:\n",
    "        print(\"Warning: sound speed value equal or less than 1350 m/s\")\n",
    "    elif ss_value > 1550:\n",
    "        print(\"Warning: sound speed value greater than 1550 m/s\")"
   ]
  },
  {
   "cell_type": "markdown",
   "metadata": {},
   "source": [
    "***"
   ]
  },
  {
   "cell_type": "markdown",
   "metadata": {},
   "source": [
    "# Section 5"
   ]
  },
  {
   "cell_type": "markdown",
   "metadata": {},
   "source": [
    "Populate and print a `section_metadata` dictionary containing the following three keys: \n",
    "* The \"section_number\" of this exercise,\n",
    "* Your \"username\", and\n",
    "* The \"current_time\":"
   ]
  },
  {
   "cell_type": "code",
   "execution_count": 40,
   "metadata": {},
   "outputs": [
    {
     "name": "stdout",
     "output_type": "stream",
     "text": [
      "{'section_number': 5, 'username': 'semmed', 'current_time': datetime.datetime(2019, 8, 23, 11, 37)}\n"
     ]
    }
   ],
   "source": [
    "from datetime import datetime\n",
    "\n",
    "section_metadata={}\n",
    "section_metadata[\"section_number\"]=5\n",
    "section_metadata[\"username\"]=\"semmed\"\n",
    "section_metadata[\"current_time\"]=datetime(2019,8,23,11,37)\n",
    "\n",
    "print(section_metadata)\n"
   ]
  },
  {
   "cell_type": "markdown",
   "metadata": {},
   "source": [
    "Create a sentence containing all the values in `section_metadata` and store it in the variable `section_sentence`. Then print `section_sentence`.\n",
    "Create and print a `section_sentence` string with all the values in `section_metadata`:"
   ]
  },
  {
   "cell_type": "code",
   "execution_count": 47,
   "metadata": {},
   "outputs": [
    {
     "name": "stdout",
     "output_type": "stream",
     "text": [
      "semmed is working on section 5 at 2019-08-23 11:37:00\n"
     ]
    }
   ],
   "source": [
    "section_sentence= \"%s is working on section %d at %s\" % (section_metadata[\"username\"], \n",
    "                section_metadata[\"section_number\"], \n",
    "                section_metadata[\"current_time\"])\n",
    "\n",
    "print(section_sentence)"
   ]
  },
  {
   "cell_type": "markdown",
   "metadata": {},
   "source": [
    "***"
   ]
  },
  {
   "cell_type": "markdown",
   "metadata": {},
   "source": [
    "# Section 6"
   ]
  },
  {
   "cell_type": "markdown",
   "metadata": {},
   "source": [
    "Create a `PressureData` class with the following two class attributes:\n",
    "* A `values` list for the pressure data.\n",
    "* A `metadata` dictionary."
   ]
  },
  {
   "cell_type": "code",
   "execution_count": 53,
   "metadata": {},
   "outputs": [],
   "source": [
    "class PressureData:\n",
    "    \"\"\"A Class for Pressure Data\"\"\"\n",
    "    \n",
    "    def __init__(self):\n",
    "        self.values=list()\n",
    "        self.metadata=dict()"
   ]
  },
  {
   "cell_type": "markdown",
   "metadata": {},
   "source": [
    "Create a `pressure` instance of `PressureData`, then print its empty list of values:"
   ]
  },
  {
   "cell_type": "code",
   "execution_count": 56,
   "metadata": {},
   "outputs": [
    {
     "name": "stdout",
     "output_type": "stream",
     "text": [
      "[]\n"
     ]
    }
   ],
   "source": [
    "pressure = PressureData()\n",
    "print(pressure.values)"
   ]
  },
  {
   "cell_type": "markdown",
   "metadata": {},
   "source": [
    "Populate the `values` of `pressure` with the following values: 1013.25, 1314.80, 1666.62, 1817.40, then print the `values`:"
   ]
  },
  {
   "cell_type": "code",
   "execution_count": 57,
   "metadata": {},
   "outputs": [
    {
     "name": "stdout",
     "output_type": "stream",
     "text": [
      "[1013.15, 1314.8, 1666.62, 1817.4]\n"
     ]
    }
   ],
   "source": [
    "pressure.values.append(1013.15)\n",
    "pressure.values.append(1314.80)\n",
    "pressure.values.append(1666.62)\n",
    "pressure.values.append(1817.40)\n",
    "print(pressure.values)"
   ]
  },
  {
   "cell_type": "markdown",
   "metadata": {},
   "source": [
    "Populate and print the `metadata` of `pressure` with:\n",
    "- `\"collection_time\"`: August 18, 2019 at 4:45 pm,\n",
    "- `\"uom\"` (unit of measure): mbar."
   ]
  },
  {
   "cell_type": "code",
   "execution_count": 60,
   "metadata": {},
   "outputs": [],
   "source": [
    "from datetime import datetime\n",
    "pressure.metadata[\"collection_time\"] = datetime(2019, 8, 18, 16, 45, 0)\n",
    "pressure.metadata[\"uom\"] = \"mbar\""
   ]
  },
  {
   "cell_type": "markdown",
   "metadata": {},
   "source": [
    "***"
   ]
  },
  {
   "cell_type": "markdown",
   "metadata": {},
   "source": [
    "# Section 7"
   ]
  },
  {
   "cell_type": "markdown",
   "metadata": {},
   "source": [
    "Write a `from_f_to_c` function that convert temperature value in [degrees Fahrenheit to degrees Celsius](https://en.wikipedia.org/wiki/Fahrenheit#Definition_and_conversion):"
   ]
  },
  {
   "cell_type": "code",
   "execution_count": 62,
   "metadata": {},
   "outputs": [],
   "source": [
    "def from_f_to_c(input_tmp):\n",
    "    return (input_tmp-32)*5/9"
   ]
  },
  {
   "cell_type": "markdown",
   "metadata": {},
   "source": [
    "Use the `from_f_to_c` function to print in degrees Celsius the values in degrees Fahrenheit stored in the `temp_list`:"
   ]
  },
  {
   "cell_type": "code",
   "execution_count": 64,
   "metadata": {},
   "outputs": [
    {
     "name": "stdout",
     "output_type": "stream",
     "text": [
      "-5.0\n",
      "0.0\n",
      "13.0\n",
      "20.27777777777778\n",
      "37.77777777777778\n",
      "100.0\n"
     ]
    }
   ],
   "source": [
    "temp_list = [23.0, 32.0, 55.4, 68.5, 100.0, 212.0] # °F\n",
    "\n",
    "for temp in temp_list:\n",
    "    print(from_f_to_c(temp))"
   ]
  },
  {
   "cell_type": "markdown",
   "metadata": {},
   "source": [
    "***"
   ]
  },
  {
   "cell_type": "markdown",
   "metadata": {},
   "source": [
    "# Section 8"
   ]
  },
  {
   "cell_type": "markdown",
   "metadata": {},
   "source": [
    "The `sal_path` variable points to a file containing salinity values.\n",
    "How many salinity values stored in the file are greater than 31.0 PSU? Print the answer:"
   ]
  },
  {
   "cell_type": "code",
   "execution_count": 75,
   "metadata": {},
   "outputs": [
    {
     "name": "stdout",
     "output_type": "stream",
     "text": [
      "31.4\n",
      "31.6\n",
      "30.5\n",
      "30.8\n",
      "30.4\n",
      "31.4\n",
      "31.6\n",
      "30.5\n",
      "30.3\n",
      "30.2\n",
      "31.4\n",
      "31.6\n",
      "32.5\n",
      "30.8\n",
      "31.4\n",
      "31.7\n",
      "31.6\n",
      "31.5\n",
      "30.2\n",
      "30.4\n",
      "\n",
      "There are 11 salinity values greater than 31.0 PSU\n"
     ]
    }
   ],
   "source": [
    "import os\n",
    "sal_path = os.path.abspath(os.path.join(os.path.curdir, \"data\", \"sal.txt\"))\n",
    "\n",
    "file_sal=open(sal_path)\n",
    "sal_content = file_sal.read()\n",
    "file_sal.close()\n",
    "\n",
    "print(sal_content)\n",
    "\n",
    "n=0\n",
    "sal_lines=sal_content.splitlines()\n",
    "for sal in sal_lines:\n",
    "    if float(sal) > 31:\n",
    "        n += 1\n",
    "        \n",
    "print(\"There are %d salinity values greater than 31.0 PSU\" % n)"
   ]
  },
  {
   "cell_type": "markdown",
   "metadata": {},
   "source": [
    "***"
   ]
  },
  {
   "cell_type": "markdown",
   "metadata": {},
   "source": [
    "# Section 9"
   ]
  },
  {
   "cell_type": "markdown",
   "metadata": {},
   "source": [
    "Add a note containing your personal feedback (i.e., comments and suggestions) about the \"Programming Basics with Python\" notebooks in the \"community\" folder on [Piazza.com](https://piazza.com/class/js5dnu0q39n6qe)."
   ]
  },
  {
   "cell_type": "markdown",
   "metadata": {},
   "source": [
    "***"
   ]
  },
  {
   "cell_type": "markdown",
   "metadata": {},
   "source": [
    "<img align=\"left\" width=\"5%\" style=\"padding-right:10px;\" src=\"images/email.png\">\n",
    "\n",
    "*For issues or suggestions related to this notebook, write to: epom@ccom.unh.edu*"
   ]
  }
 ],
 "metadata": {
  "kernelspec": {
   "display_name": "Python 3",
   "language": "python",
   "name": "python3"
  },
  "language_info": {
   "codemirror_mode": {
    "name": "ipython",
    "version": 3
   },
   "file_extension": ".py",
   "mimetype": "text/x-python",
   "name": "python",
   "nbconvert_exporter": "python",
   "pygments_lexer": "ipython3",
   "version": "3.6.7"
  }
 },
 "nbformat": 4,
 "nbformat_minor": 2
}
