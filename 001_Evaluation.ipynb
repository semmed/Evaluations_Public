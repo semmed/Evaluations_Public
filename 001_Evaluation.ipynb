{
 "cells": [
  {
   "cell_type": "markdown",
   "metadata": {},
   "source": [
    "<a href=\"https://www.hydroffice.org/epom/\"><img src=\"images/000_000_epom_logo.png\" alt=\"ePOM\" title=\"Open ePOM home page\" align=\"center\" width=\"12%\" alt=\"Python logo\\\"></a>"
   ]
  },
  {
   "cell_type": "markdown",
   "metadata": {},
   "source": [
    "# Programming Basic with Python - Evaluation"
   ]
  },
  {
   "cell_type": "markdown",
   "metadata": {},
   "source": [
    "* This notebook is organized in several sections. \n",
    "\n",
    "* The code cells among different sections are independent, thus you do not need to complete all the cells in a section before moving to the next one.\n",
    "\n",
    "* You must work on your own. \n",
    "  * You are not allowed to interact with the other classmates. \n",
    "  * If you need clarifications about an exercise, ask the instructors.\n",
    "\n",
    "* You are allowed to access the [Programming Basics with Python](../python_basics/index.ipynb) notebooks that you completed during the past weeks."
   ]
  },
  {
   "cell_type": "markdown",
   "metadata": {},
   "source": [
    "---"
   ]
  },
  {
   "cell_type": "markdown",
   "metadata": {},
   "source": [
    "# Section 0"
   ]
  },
  {
   "cell_type": "markdown",
   "metadata": {},
   "source": [
    "Create and print a `str` variable containing your first name:"
   ]
  },
  {
   "cell_type": "code",
   "execution_count": 1,
   "metadata": {},
   "outputs": [
    {
     "name": "stdout",
     "output_type": "stream",
     "text": [
      "Semme\n"
     ]
    }
   ],
   "source": [
    "str = \"Semme\"\n",
    "print( str)"
   ]
  },
  {
   "cell_type": "markdown",
   "metadata": {},
   "source": [
    "The code cell below augments (*add to, expand*) `hobby` with the string `\" likes to:\"` "
   ]
  },
  {
   "cell_type": "code",
   "execution_count": 2,
   "metadata": {},
   "outputs": [],
   "source": [
    "str += \" likes to\""
   ]
  },
  {
   "cell_type": "markdown",
   "metadata": {},
   "source": [
    "Create a variable `hobby` with the string of the name of a thing you like to do (keep it civil!), then print the result - make sure to have no leading or trailing space (\" \") or period (\".\") characters ."
   ]
  },
  {
   "cell_type": "code",
   "execution_count": 3,
   "metadata": {},
   "outputs": [
    {
     "name": "stdout",
     "output_type": "stream",
     "text": [
      "bike\n"
     ]
    }
   ],
   "source": [
    "hobby = \"bike\"\n",
    "print(hobby)"
   ]
  },
  {
   "cell_type": "markdown",
   "metadata": {},
   "source": [
    "Assign the length of `hobby` to a `hobby_length` variable, then print the resulting value:"
   ]
  },
  {
   "cell_type": "code",
   "execution_count": 4,
   "metadata": {
    "scrolled": true
   },
   "outputs": [
    {
     "name": "stdout",
     "output_type": "stream",
     "text": [
      "4\n"
     ]
    }
   ],
   "source": [
    "hobby_length = len(hobby)\n",
    "print(hobby_length)"
   ]
  },
  {
   "cell_type": "markdown",
   "metadata": {},
   "source": [
    "Use `str` and `hobby` to create a full `sentence` variable of your choice, Ensure that all words are separated by spaces and that the last character of `sentence` is a period. Then print the resulting string:"
   ]
  },
  {
   "cell_type": "code",
   "execution_count": 5,
   "metadata": {},
   "outputs": [
    {
     "name": "stdout",
     "output_type": "stream",
     "text": [
      "Semme likes to bike.\n"
     ]
    }
   ],
   "source": [
    "sentence = str+\" \"+hobby+\".\"\n",
    "# str(hobby_length) + \" characters\"\n",
    "print(sentence)"
   ]
  },
  {
   "cell_type": "markdown",
   "metadata": {},
   "source": [
    "Retrieve and print the type of the `sentence` variable:"
   ]
  },
  {
   "cell_type": "code",
   "execution_count": 6,
   "metadata": {},
   "outputs": [
    {
     "name": "stdout",
     "output_type": "stream",
     "text": [
      "<class 'str'>\n"
     ]
    }
   ],
   "source": [
    "print(type( sentence))"
   ]
  },
  {
   "cell_type": "markdown",
   "metadata": {},
   "source": [
    "***"
   ]
  },
  {
   "cell_type": "markdown",
   "metadata": {},
   "source": [
    "# Section 1"
   ]
  },
  {
   "cell_type": "markdown",
   "metadata": {},
   "source": [
    "Create three variables (`p_x`, `a_w` and, x) with values `.016` and `-1.1` and 4: "
   ]
  },
  {
   "cell_type": "code",
   "execution_count": 7,
   "metadata": {},
   "outputs": [],
   "source": [
    "p_x=2\n",
    "a_w=.016\n",
    "dx=4"
   ]
  },
  {
   "cell_type": "markdown",
   "metadata": {},
   "source": [
    "The loss of power through acoustic attenuation is derived from the equation\n",
    "\n",
    "$$p(x+\\Delta{x}) = p_x e^{-\\omega\\Delta{x}}$$\n",
    "\n",
    "The value of $P_x$ is given by `p_x`. The value of the exponent $e^x$ may be found by calling the function `exp()` in the `numpy` module with the argument `x` e.g. `np.exp(x)`. Similarly, the value of $e^{3x}$ may be found by `np.exp(3*x)`\n",
    " \n",
    " \n",
    "Implement the above equation to determine the power `p` at a distance of `dx` units away from the location at which the power was `p_x` using the impedance coefficient `a_w`.\n",
    "\n",
    "Print the result as a floating point number with two decimals"
   ]
  },
  {
   "cell_type": "code",
   "execution_count": 8,
   "metadata": {},
   "outputs": [
    {
     "name": "stdout",
     "output_type": "stream",
     "text": [
      "1.88\n"
     ]
    }
   ],
   "source": [
    "import numpy as np\n",
    "p = p_x*np.exp(-a_w*dx)\n",
    "print(\"%.2f\" % p)"
   ]
  },
  {
   "cell_type": "markdown",
   "metadata": {},
   "source": [
    "Retrieve and print the types of the `p`, `p_x`, `a_w` and `dx` variables:"
   ]
  },
  {
   "cell_type": "code",
   "execution_count": 9,
   "metadata": {},
   "outputs": [
    {
     "name": "stdout",
     "output_type": "stream",
     "text": [
      "<class 'numpy.float64'>\n",
      "<class 'int'>\n",
      "<class 'float'>\n",
      "<class 'int'>\n"
     ]
    }
   ],
   "source": [
    "print(type(p))\n",
    "print(type(p_x))\n",
    "print(type(a_w))\n",
    "print(type(dx))"
   ]
  },
  {
   "cell_type": "markdown",
   "metadata": {},
   "source": [
    "Use the Markdown cell below to comment on the outputs of the cell above:"
   ]
  },
  {
   "cell_type": "markdown",
   "metadata": {},
   "source": [
    "*Answer here*: v0 is an integer, whereas v1 and v01_div or floating point variables"
   ]
  },
  {
   "cell_type": "markdown",
   "metadata": {},
   "source": [
    "***"
   ]
  },
  {
   "cell_type": "markdown",
   "metadata": {},
   "source": [
    "# Section 2"
   ]
  },
  {
   "cell_type": "markdown",
   "metadata": {},
   "source": [
    "Create and print a `dolphins` list with at least 5 species of [ocean dolphins](https://en.wikipedia.org/wiki/Dolphin#Oceanic_dolphins):"
   ]
  },
  {
   "cell_type": "code",
   "execution_count": 10,
   "metadata": {},
   "outputs": [
    {
     "name": "stdout",
     "output_type": "stream",
     "text": [
      "['La Plata dolphin', 'Long-beaked common dolphin', 'Short-beaked common dolphin', 'Common bottlenose dolphin', 'Indo-Pacific bottlenose dolphin']\n"
     ]
    }
   ],
   "source": [
    "dolphins=['La Plata dolphin','Long-beaked common dolphin','Short-beaked common dolphin', 'Common bottlenose dolphin', 'Indo-Pacific bottlenose dolphin'  ]\n",
    "print(dolphins)"
   ]
  },
  {
   "cell_type": "markdown",
   "metadata": {},
   "source": [
    "Print the number of species in the `dolphins` list:"
   ]
  },
  {
   "cell_type": "code",
   "execution_count": 11,
   "metadata": {},
   "outputs": [
    {
     "name": "stdout",
     "output_type": "stream",
     "text": [
      "5\n"
     ]
    }
   ],
   "source": [
    "print(len(dolphins))"
   ]
  },
  {
   "cell_type": "markdown",
   "metadata": {},
   "source": [
    "Check whether the `\"Spinner dolphin\"` is present in the `dolphins` list, then print the result of this search: "
   ]
  },
  {
   "cell_type": "code",
   "execution_count": 12,
   "metadata": {},
   "outputs": [
    {
     "name": "stdout",
     "output_type": "stream",
     "text": [
      "Is the Spinner dolphin present in the list? False\n"
     ]
    }
   ],
   "source": [
    "present = False\n",
    "for dolphin in dolphins:\n",
    "    if dolphin == \"Spinner dolphin\":\n",
    "        present = True\n",
    "        \n",
    "print('Is the Spinner dolphin present in the list? %s' % present)"
   ]
  },
  {
   "cell_type": "markdown",
   "metadata": {},
   "source": [
    "***"
   ]
  },
  {
   "cell_type": "markdown",
   "metadata": {},
   "source": [
    "# Section 3"
   ]
  },
  {
   "cell_type": "markdown",
   "metadata": {},
   "source": [
    "Create and print a `river_dolphins` dictionary with name (as keys) and repartition (as values) for [river dolphins](https://en.wikipedia.org/wiki/Dolphin#River_dolphins):"
   ]
  },
  {
   "cell_type": "code",
   "execution_count": 13,
   "metadata": {},
   "outputs": [
    {
     "name": "stdout",
     "output_type": "stream",
     "text": [
      "{'Baiji': 'Yangtze River', 'South Asian river dolphin': 'Asia (south)', 'Amazon river dolphin': 'Amazon basin', 'Araguaian river dolphin': 'Amazon (east)', 'Bolivian river dolphin': 'Amazon (Bolivia)', 'Tucuxi': 'Amazon basin'}\n"
     ]
    }
   ],
   "source": [
    "river_dolphins = {}\n",
    "river_dolphins[\"Baiji\"] = \"Yangtze River\"\n",
    "river_dolphins[\"South Asian river dolphin\"] = \"Asia (south)\"\n",
    "river_dolphins[\"Amazon river dolphin\"] = \"Amazon basin\"\n",
    "river_dolphins[\"Araguaian river dolphin\"] = \"Amazon (east)\"\n",
    "river_dolphins[\"Bolivian river dolphin\"] = \"Amazon (Bolivia)\"\n",
    "river_dolphins[\"Tucuxi\"] = \"Amazon basin\"\n",
    "print(river_dolphins)"
   ]
  },
  {
   "cell_type": "markdown",
   "metadata": {},
   "source": [
    "Create a `selected_dolphin` variable with the name of a dolphin of your choice:"
   ]
  },
  {
   "cell_type": "code",
   "execution_count": 14,
   "metadata": {},
   "outputs": [],
   "source": [
    "selected_dolphin = \"Baiji\""
   ]
  },
  {
   "cell_type": "markdown",
   "metadata": {},
   "source": [
    "Create and print a sentence containing both the `selected_dolphin` and the corresponding repartition retrieved from the `river_dolphins` dictionary:"
   ]
  },
  {
   "cell_type": "code",
   "execution_count": 15,
   "metadata": {},
   "outputs": [
    {
     "name": "stdout",
     "output_type": "stream",
     "text": [
      "The Baiji lives in the Yangtze River\n"
     ]
    }
   ],
   "source": [
    "print(\"The %s lives in the %s\" % (selected_dolphin, river_dolphins[selected_dolphin]))"
   ]
  },
  {
   "cell_type": "markdown",
   "metadata": {},
   "source": [
    "***"
   ]
  },
  {
   "cell_type": "markdown",
   "metadata": {},
   "source": [
    "# Section 4"
   ]
  },
  {
   "cell_type": "markdown",
   "metadata": {},
   "source": [
    "Read the **What is Saline Water?** section of this [web-page](https://www.usgs.gov/special-topic/water-science-school/science/saline-water-and-salinity?qt-science_center_objects=0#qt-science_center_objects#What_is_saline_water).\n",
    "\n",
    "For each element in the list print the value and whether it represents `fresh water`, `slightly saline water`, `moderately saline water` or `highly saline water` e.g.:\n",
    "\n",
    "    .9: Fresh Water\n",
    "    \n",
    "Hint: use the `for`, `in`, `if` and `elif` commands"
   ]
  },
  {
   "cell_type": "code",
   "execution_count": 16,
   "metadata": {},
   "outputs": [
    {
     "name": "stdout",
     "output_type": "stream",
     "text": [
      "fresh water\n",
      "fresh water\n",
      "highly saline water\n",
      "moderately saline water\n",
      "fresh water\n"
     ]
    }
   ],
   "source": [
    "# Categorize water mass in the following classes\n",
    "# \"fresh water\"\n",
    "# \"slightly saline water\"\n",
    "# \"moderately saline water\"\n",
    "# \"highly saline water\"\n",
    "\n",
    "sal_list = [.3, .2, 34.3, 5.1, .6 ]\n",
    "for sal_value in sal_list:\n",
    "    if sal_value <= 1:\n",
    "        print(\"fresh water\")\n",
    "    elif sal_value <= 3:\n",
    "        print(\"slightly saline water\")    \n",
    "    elif sal_value <= 10:\n",
    "        print(\"moderately saline water\")\n",
    "    elif sal_value <= 35:\n",
    "        print(\"highly saline water\")"
   ]
  },
  {
   "cell_type": "markdown",
   "metadata": {},
   "source": [
    "***"
   ]
  },
  {
   "cell_type": "markdown",
   "metadata": {},
   "source": [
    "# Section 5"
   ]
  },
  {
   "cell_type": "markdown",
   "metadata": {},
   "source": [
    "Populate and print a `section_metadata` dictionary containing the following three keys: \n",
    "* The \"section_number\" of this exercise,\n",
    "* Your \"username\", and\n",
    "* The \"current_time\":"
   ]
  },
  {
   "cell_type": "code",
   "execution_count": 17,
   "metadata": {},
   "outputs": [
    {
     "name": "stdout",
     "output_type": "stream",
     "text": [
      "{'section_number': 5, 'username': 'semmed', 'current_time': datetime.datetime(2019, 8, 23, 11, 37)}\n"
     ]
    }
   ],
   "source": [
    "from datetime import datetime\n",
    "\n",
    "section_metadata={}\n",
    "section_metadata[\"section_number\"]=5\n",
    "section_metadata[\"username\"]=\"semmed\"\n",
    "section_metadata[\"current_time\"]=datetime(2019,8,23,11,37)\n",
    "\n",
    "print(section_metadata)\n"
   ]
  },
  {
   "cell_type": "markdown",
   "metadata": {},
   "source": [
    "Create a sentence containing all the values in `section_metadata` and store it in the variable `section_sentence`. Then print `section_sentence`.\n",
    "Create and print a `section_sentence` string with all the values in `section_metadata`:"
   ]
  },
  {
   "cell_type": "code",
   "execution_count": 18,
   "metadata": {},
   "outputs": [
    {
     "name": "stdout",
     "output_type": "stream",
     "text": [
      "semmed is working on section 5 at 2019-08-23 11:37:00\n"
     ]
    }
   ],
   "source": [
    "section_sentence= \"%s is working on section %d at %s\" % (section_metadata[\"username\"], \n",
    "                section_metadata[\"section_number\"], \n",
    "                section_metadata[\"current_time\"])\n",
    "\n",
    "print(section_sentence)"
   ]
  },
  {
   "cell_type": "markdown",
   "metadata": {},
   "source": [
    "***"
   ]
  },
  {
   "cell_type": "markdown",
   "metadata": {},
   "source": [
    "# Section 6"
   ]
  },
  {
   "cell_type": "markdown",
   "metadata": {},
   "source": [
    "Create a `SoundSpeedData` class with the following three class attributes:\n",
    "* A `depths` list for the depths at which sound speed data were obtained.\n",
    "* A `ss_data` list for the sound speeds\n",
    "* A `metadata` dictionary."
   ]
  },
  {
   "cell_type": "code",
   "execution_count": 19,
   "metadata": {},
   "outputs": [],
   "source": [
    "class SoundSpeedData:\n",
    "    \"\"\"A Class for Pressure Data\"\"\"\n",
    "    \n",
    "    def __init__(self):\n",
    "        self.depths=list()\n",
    "        self.ss_data=list()\n",
    "        self.metadata=dict()"
   ]
  },
  {
   "cell_type": "markdown",
   "metadata": {},
   "source": [
    "Create a `ssp` instance of `SoundSpeedData`, then print its empty list of sound speed values:"
   ]
  },
  {
   "cell_type": "code",
   "execution_count": 20,
   "metadata": {},
   "outputs": [
    {
     "name": "stdout",
     "output_type": "stream",
     "text": [
      "[]\n"
     ]
    }
   ],
   "source": [
    "ssp = SoundSpeedData()\n",
    "print(ssp.ss_data)"
   ]
  },
  {
   "cell_type": "markdown",
   "metadata": {},
   "source": [
    "Populate the `ss_data` of `ssp` with the following values: 1500.25, 1490.80, 1480.62 then print the `ss_data`:"
   ]
  },
  {
   "cell_type": "code",
   "execution_count": 21,
   "metadata": {},
   "outputs": [
    {
     "name": "stdout",
     "output_type": "stream",
     "text": [
      "[1500.25, 1490.8, 1480.62]\n"
     ]
    }
   ],
   "source": [
    "ssp.ss_data.append(1500.25)\n",
    "ssp.ss_data.append(1490.80)\n",
    "ssp.ss_data.append(1480.62)\n",
    "print(ssp.ss_data)"
   ]
  },
  {
   "cell_type": "markdown",
   "metadata": {},
   "source": [
    "Populate the `depths` of `ssp` with the following values: 1, 2.1, 10.4 then print the `depths` followed by the `ss_data`:"
   ]
  },
  {
   "cell_type": "code",
   "execution_count": 34,
   "metadata": {},
   "outputs": [
    {
     "name": "stdout",
     "output_type": "stream",
     "text": [
      "[1, 2.1, 10.4, 1, 2.1, 10.4]\n"
     ]
    }
   ],
   "source": [
    "ssp.depths.append(1)\n",
    "ssp.depths.append(2.1)\n",
    "ssp.depths.append(10.4)\n",
    "print(ssp.depths)"
   ]
  },
  {
   "cell_type": "markdown",
   "metadata": {},
   "source": [
    "Populate and print the `metadata` of `ssp` with:\n",
    "- `\"collection_time\"`: September 8, 2019 at 11:10 am,\n",
    "- `\"uom\"` (unit of measure): ppt."
   ]
  },
  {
   "cell_type": "code",
   "execution_count": 35,
   "metadata": {},
   "outputs": [
    {
     "name": "stdout",
     "output_type": "stream",
     "text": [
      "Collection Time : September 8, 2019 at 11:10 am\n",
      "uom             : ppt\n"
     ]
    }
   ],
   "source": [
    "from datetime import datetime\n",
    "ssp.metadata[\"collection_time\"] = 'September 8, 2019 at 11:10 am'\n",
    "ssp.metadata[\"uom\"] = \"ppt\"\n",
    "\n",
    "print('Collection Time : ' + ssp.metadata[\"collection_time\"])\n",
    "print('uom             : ' + ssp.metadata[\"uom\"])"
   ]
  },
  {
   "cell_type": "markdown",
   "metadata": {},
   "source": [
    "***"
   ]
  },
  {
   "cell_type": "markdown",
   "metadata": {},
   "source": [
    "# Section 7"
   ]
  },
  {
   "cell_type": "markdown",
   "metadata": {},
   "source": [
    "Write a `from_f_to_c` function that convert temperature value in [degrees Fahrenheit to degrees Celsius](https://en.wikipedia.org/wiki/Fahrenheit#Definition_and_conversion):"
   ]
  },
  {
   "cell_type": "code",
   "execution_count": 36,
   "metadata": {},
   "outputs": [],
   "source": [
    "def from_f_to_c(input_tmp):\n",
    "    return (input_tmp-32)*5/9"
   ]
  },
  {
   "cell_type": "markdown",
   "metadata": {},
   "source": [
    "Use the `from_f_to_c` function to print in degrees Celsius the values in degrees Fahrenheit stored in the `temp_list`:"
   ]
  },
  {
   "cell_type": "code",
   "execution_count": 37,
   "metadata": {},
   "outputs": [
    {
     "name": "stdout",
     "output_type": "stream",
     "text": [
      "-5.0\n",
      "0.0\n",
      "13.0\n",
      "20.27777777777778\n",
      "37.77777777777778\n",
      "100.0\n"
     ]
    }
   ],
   "source": [
    "temp_list = [23.0, 32.0, 55.4, 68.5, 100.0, 212.0] # °F\n",
    "\n",
    "for temp in temp_list:\n",
    "    print(from_f_to_c(temp))"
   ]
  },
  {
   "cell_type": "markdown",
   "metadata": {},
   "source": [
    "***"
   ]
  },
  {
   "cell_type": "markdown",
   "metadata": {},
   "source": [
    "# Section 8"
   ]
  },
  {
   "cell_type": "markdown",
   "metadata": {},
   "source": [
    "The `sal_path` variable points to a file containing salinity values.\n",
    "How many salinity values stored in the file are greater than 31.0 PSU? Print the answer:"
   ]
  },
  {
   "cell_type": "code",
   "execution_count": 38,
   "metadata": {},
   "outputs": [
    {
     "name": "stdout",
     "output_type": "stream",
     "text": [
      "31.4\n",
      "31.6\n",
      "30.5\n",
      "30.8\n",
      "30.4\n",
      "31.4\n",
      "31.6\n",
      "30.5\n",
      "30.3\n",
      "30.2\n",
      "31.4\n",
      "31.6\n",
      "32.5\n",
      "30.8\n",
      "31.4\n",
      "31.7\n",
      "31.6\n",
      "31.5\n",
      "30.2\n",
      "30.4\n",
      "\n",
      "There are 11 salinity values greater than 31.0 PSU\n"
     ]
    }
   ],
   "source": [
    "import os\n",
    "sal_path = os.path.abspath(os.path.join(os.path.curdir, \"data\", \"sal.txt\"))\n",
    "\n",
    "file_sal=open(sal_path)\n",
    "sal_content = file_sal.read()\n",
    "file_sal.close()\n",
    "\n",
    "print(sal_content)\n",
    "\n",
    "n=0\n",
    "sal_lines=sal_content.splitlines()\n",
    "for sal in sal_lines:\n",
    "    if float(sal) > 31:\n",
    "        n += 1\n",
    "        \n",
    "print(\"There are %d salinity values greater than 31.0 PSU\" % n)"
   ]
  },
  {
   "cell_type": "markdown",
   "metadata": {},
   "source": [
    "***"
   ]
  },
  {
   "cell_type": "markdown",
   "metadata": {},
   "source": [
    "# Section 9"
   ]
  },
  {
   "cell_type": "markdown",
   "metadata": {},
   "source": [
    "Add a note containing your personal feedback (i.e., comments and suggestions) about the \"Programming Basics with Python\" notebooks in the \"Python Basics\" channel of the \"ESCI 872 Tools# Team on `Teams`"
   ]
  },
  {
   "cell_type": "markdown",
   "metadata": {},
   "source": [
    "***"
   ]
  },
  {
   "cell_type": "markdown",
   "metadata": {},
   "source": [
    "<img align=\"left\" width=\"5%\" style=\"padding-right:10px;\" src=\"images/email.png\">\n",
    "\n",
    "*For issues or suggestions related to this notebook, write to: epom@ccom.unh.edu*"
   ]
  }
 ],
 "metadata": {
  "kernelspec": {
   "display_name": "Python 3",
   "language": "python",
   "name": "python3"
  },
  "language_info": {
   "codemirror_mode": {
    "name": "ipython",
    "version": 3
   },
   "file_extension": ".py",
   "mimetype": "text/x-python",
   "name": "python",
   "nbconvert_exporter": "python",
   "pygments_lexer": "ipython3",
   "version": "3.6.7"
  }
 },
 "nbformat": 4,
 "nbformat_minor": 2
}
